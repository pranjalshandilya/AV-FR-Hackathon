{
 "cells": [
  {
   "cell_type": "markdown",
   "id": "66783735",
   "metadata": {},
   "source": [
    "##  AV-FRACTAL Hackathon Regression Problem"
   ]
  },
  {
   "cell_type": "markdown",
   "id": "18b5c434",
   "metadata": {},
   "source": [
    "### Hypothesis Generation:\n",
    "\n",
    "**Univariate**\n",
    "\n",
    "    * Maximum courses will be from software marketing\n",
    "    * Maximum course type will be of course\n",
    "    * Short promotion will have higher frequency\n",
    "    * Long promotion will have lower frequency\n",
    "    * Competition metric will have a skewed distribution\n",
    "\n",
    "**Bivariate**\n",
    "\n",
    "    * Software marketing domin will have Higher sales\n",
    "    * Course in course type will have higher sales\n",
    "    * If the short promotion is on Sales will be higher\n",
    "    * If the long promotion are on sales will be lower\n",
    "    * If public holiday is there then sales will be higher\n",
    "    * If user traffic is more then sales will be higher\n",
    "    * If Competition is more then sales will be less\n",
    "    \n"
   ]
  },
  {
   "cell_type": "code",
   "execution_count": 109,
   "id": "482ee141",
   "metadata": {},
   "outputs": [],
   "source": [
    "## Reading the data:\n",
    "\n",
    "import pandas as pd\n",
    "import numpy as np\n",
    "import seaborn as sns\n",
    "import matplotlib.pyplot as plt\n",
    "\n",
    "train = pd.read_csv('train.csv')\n",
    "test = pd.read_csv('test.csv')"
   ]
  },
  {
   "cell_type": "code",
   "execution_count": 110,
   "id": "2a77f3fe",
   "metadata": {},
   "outputs": [
    {
     "data": {
      "text/plain": [
       "(512087, 11)"
      ]
     },
     "execution_count": 110,
     "metadata": {},
     "output_type": "execute_result"
    }
   ],
   "source": [
    "train.shape"
   ]
  },
  {
   "cell_type": "code",
   "execution_count": 111,
   "id": "8bba09c8",
   "metadata": {},
   "outputs": [
    {
     "name": "stdout",
     "output_type": "stream",
     "text": [
      "<class 'pandas.core.frame.DataFrame'>\n",
      "RangeIndex: 512087 entries, 0 to 512086\n",
      "Data columns (total 11 columns):\n",
      " #   Column              Non-Null Count   Dtype  \n",
      "---  ------              --------------   -----  \n",
      " 0   ID                  512087 non-null  int64  \n",
      " 1   Day_No              512087 non-null  int64  \n",
      " 2   Course_ID           512087 non-null  int64  \n",
      " 3   Course_Domain       512087 non-null  object \n",
      " 4   Course_Type         512087 non-null  object \n",
      " 5   Short_Promotion     512087 non-null  int64  \n",
      " 6   Public_Holiday      512087 non-null  int64  \n",
      " 7   Long_Promotion      512087 non-null  int64  \n",
      " 8   User_Traffic        512087 non-null  int64  \n",
      " 9   Competition_Metric  510323 non-null  float64\n",
      " 10  Sales               512087 non-null  int64  \n",
      "dtypes: float64(1), int64(8), object(2)\n",
      "memory usage: 43.0+ MB\n"
     ]
    }
   ],
   "source": [
    "train.info()"
   ]
  },
  {
   "cell_type": "code",
   "execution_count": 112,
   "id": "9a8efd70",
   "metadata": {},
   "outputs": [
    {
     "data": {
      "text/plain": [
       "ID                      0\n",
       "Day_No                  0\n",
       "Course_ID               0\n",
       "Course_Domain           0\n",
       "Course_Type             0\n",
       "Short_Promotion         0\n",
       "Public_Holiday          0\n",
       "Long_Promotion          0\n",
       "Competition_Metric    120\n",
       "dtype: int64"
      ]
     },
     "execution_count": 112,
     "metadata": {},
     "output_type": "execute_result"
    }
   ],
   "source": [
    "test.isnull().sum()"
   ]
  },
  {
   "cell_type": "code",
   "execution_count": 113,
   "id": "3d2e3c61",
   "metadata": {},
   "outputs": [
    {
     "data": {
      "text/plain": [
       "ID                       0\n",
       "Day_No                   0\n",
       "Course_ID                0\n",
       "Course_Domain            0\n",
       "Course_Type              0\n",
       "Short_Promotion          0\n",
       "Public_Holiday           0\n",
       "Long_Promotion           0\n",
       "User_Traffic             0\n",
       "Competition_Metric    1764\n",
       "Sales                    0\n",
       "dtype: int64"
      ]
     },
     "execution_count": 113,
     "metadata": {},
     "output_type": "execute_result"
    }
   ],
   "source": [
    "train.isnull().sum()"
   ]
  },
  {
   "cell_type": "code",
   "execution_count": 114,
   "id": "917e9c5f",
   "metadata": {},
   "outputs": [
    {
     "data": {
      "text/html": [
       "<div>\n",
       "<style scoped>\n",
       "    .dataframe tbody tr th:only-of-type {\n",
       "        vertical-align: middle;\n",
       "    }\n",
       "\n",
       "    .dataframe tbody tr th {\n",
       "        vertical-align: top;\n",
       "    }\n",
       "\n",
       "    .dataframe thead th {\n",
       "        text-align: right;\n",
       "    }\n",
       "</style>\n",
       "<table border=\"1\" class=\"dataframe\">\n",
       "  <thead>\n",
       "    <tr style=\"text-align: right;\">\n",
       "      <th></th>\n",
       "      <th>ID</th>\n",
       "      <th>Day_No</th>\n",
       "      <th>Course_ID</th>\n",
       "      <th>Short_Promotion</th>\n",
       "      <th>Public_Holiday</th>\n",
       "      <th>Long_Promotion</th>\n",
       "      <th>User_Traffic</th>\n",
       "      <th>Competition_Metric</th>\n",
       "      <th>Sales</th>\n",
       "    </tr>\n",
       "  </thead>\n",
       "  <tbody>\n",
       "    <tr>\n",
       "      <th>count</th>\n",
       "      <td>512087.000000</td>\n",
       "      <td>512087.000000</td>\n",
       "      <td>512087.000000</td>\n",
       "      <td>512087.000000</td>\n",
       "      <td>512087.000000</td>\n",
       "      <td>512087.000000</td>\n",
       "      <td>512087.000000</td>\n",
       "      <td>510323.000000</td>\n",
       "      <td>512087.000000</td>\n",
       "    </tr>\n",
       "    <tr>\n",
       "      <th>mean</th>\n",
       "      <td>274007.300650</td>\n",
       "      <td>434.917869</td>\n",
       "      <td>300.388344</td>\n",
       "      <td>0.380244</td>\n",
       "      <td>0.031639</td>\n",
       "      <td>0.488968</td>\n",
       "      <td>15375.101198</td>\n",
       "      <td>0.073345</td>\n",
       "      <td>120.826924</td>\n",
       "    </tr>\n",
       "    <tr>\n",
       "      <th>std</th>\n",
       "      <td>158228.834029</td>\n",
       "      <td>256.044161</td>\n",
       "      <td>173.365787</td>\n",
       "      <td>0.485447</td>\n",
       "      <td>0.175038</td>\n",
       "      <td>0.499879</td>\n",
       "      <td>7727.231205</td>\n",
       "      <td>0.100115</td>\n",
       "      <td>54.355258</td>\n",
       "    </tr>\n",
       "    <tr>\n",
       "      <th>min</th>\n",
       "      <td>1.000000</td>\n",
       "      <td>1.000000</td>\n",
       "      <td>1.000000</td>\n",
       "      <td>0.000000</td>\n",
       "      <td>0.000000</td>\n",
       "      <td>0.000000</td>\n",
       "      <td>168.000000</td>\n",
       "      <td>0.000000</td>\n",
       "      <td>0.000000</td>\n",
       "    </tr>\n",
       "    <tr>\n",
       "      <th>25%</th>\n",
       "      <td>136962.500000</td>\n",
       "      <td>214.000000</td>\n",
       "      <td>150.000000</td>\n",
       "      <td>0.000000</td>\n",
       "      <td>0.000000</td>\n",
       "      <td>0.000000</td>\n",
       "      <td>10584.000000</td>\n",
       "      <td>0.010000</td>\n",
       "      <td>84.000000</td>\n",
       "    </tr>\n",
       "    <tr>\n",
       "      <th>50%</th>\n",
       "      <td>273984.000000</td>\n",
       "      <td>427.000000</td>\n",
       "      <td>300.000000</td>\n",
       "      <td>0.000000</td>\n",
       "      <td>0.000000</td>\n",
       "      <td>0.000000</td>\n",
       "      <td>13776.000000</td>\n",
       "      <td>0.035000</td>\n",
       "      <td>111.000000</td>\n",
       "    </tr>\n",
       "    <tr>\n",
       "      <th>75%</th>\n",
       "      <td>411065.500000</td>\n",
       "      <td>658.000000</td>\n",
       "      <td>451.000000</td>\n",
       "      <td>1.000000</td>\n",
       "      <td>0.000000</td>\n",
       "      <td>1.000000</td>\n",
       "      <td>18123.000000</td>\n",
       "      <td>0.094000</td>\n",
       "      <td>146.000000</td>\n",
       "    </tr>\n",
       "    <tr>\n",
       "      <th>max</th>\n",
       "      <td>548027.000000</td>\n",
       "      <td>882.000000</td>\n",
       "      <td>600.000000</td>\n",
       "      <td>1.000000</td>\n",
       "      <td>1.000000</td>\n",
       "      <td>1.000000</td>\n",
       "      <td>100002.000000</td>\n",
       "      <td>0.768000</td>\n",
       "      <td>682.000000</td>\n",
       "    </tr>\n",
       "  </tbody>\n",
       "</table>\n",
       "</div>"
      ],
      "text/plain": [
       "                  ID         Day_No      Course_ID  Short_Promotion  \\\n",
       "count  512087.000000  512087.000000  512087.000000    512087.000000   \n",
       "mean   274007.300650     434.917869     300.388344         0.380244   \n",
       "std    158228.834029     256.044161     173.365787         0.485447   \n",
       "min         1.000000       1.000000       1.000000         0.000000   \n",
       "25%    136962.500000     214.000000     150.000000         0.000000   \n",
       "50%    273984.000000     427.000000     300.000000         0.000000   \n",
       "75%    411065.500000     658.000000     451.000000         1.000000   \n",
       "max    548027.000000     882.000000     600.000000         1.000000   \n",
       "\n",
       "       Public_Holiday  Long_Promotion   User_Traffic  Competition_Metric  \\\n",
       "count   512087.000000   512087.000000  512087.000000       510323.000000   \n",
       "mean         0.031639        0.488968   15375.101198            0.073345   \n",
       "std          0.175038        0.499879    7727.231205            0.100115   \n",
       "min          0.000000        0.000000     168.000000            0.000000   \n",
       "25%          0.000000        0.000000   10584.000000            0.010000   \n",
       "50%          0.000000        0.000000   13776.000000            0.035000   \n",
       "75%          0.000000        1.000000   18123.000000            0.094000   \n",
       "max          1.000000        1.000000  100002.000000            0.768000   \n",
       "\n",
       "               Sales  \n",
       "count  512087.000000  \n",
       "mean      120.826924  \n",
       "std        54.355258  \n",
       "min         0.000000  \n",
       "25%        84.000000  \n",
       "50%       111.000000  \n",
       "75%       146.000000  \n",
       "max       682.000000  "
      ]
     },
     "execution_count": 114,
     "metadata": {},
     "output_type": "execute_result"
    }
   ],
   "source": [
    "train.describe()"
   ]
  },
  {
   "cell_type": "markdown",
   "id": "d30ce408",
   "metadata": {},
   "source": [
    "### Univariate Analysis"
   ]
  },
  {
   "cell_type": "markdown",
   "id": "50b41261",
   "metadata": {},
   "source": [
    "**Hypothesis 1: Maximum courses will be from software marketing**"
   ]
  },
  {
   "cell_type": "code",
   "execution_count": 7,
   "id": "a6d2d72e",
   "metadata": {},
   "outputs": [
    {
     "data": {
      "text/plain": [
       "(array([0, 1, 2, 3]),\n",
       " [Text(0, 0, 'Development'),\n",
       "  Text(1, 0, 'Software Marketing'),\n",
       "  Text(2, 0, 'Finance & Accounting'),\n",
       "  Text(3, 0, 'Business')])"
      ]
     },
     "execution_count": 7,
     "metadata": {},
     "output_type": "execute_result"
    },
    {
     "data": {
      "image/png": "[encoded data removed]",
      "text/plain": [
       "<Figure size 432x288 with 1 Axes>"
      ]
     },
     "metadata": {
      "needs_background": "light"
     },
     "output_type": "display_data"
    }
   ],
   "source": [
    "sns.countplot(x = 'Course_Domain', data=train)\n",
    "plt.xticks(rotation=45)"
   ]
  },
  {
   "cell_type": "markdown",
   "id": "f8325535",
   "metadata": {},
   "source": [
    "* So our hypothesis doesn't hold true here"
   ]
  },
  {
   "cell_type": "markdown",
   "id": "6bdbcac8",
   "metadata": {},
   "source": [
    "**Hypothesis 2: Maximum course type will be of course**"
   ]
  },
  {
   "cell_type": "code",
   "execution_count": 8,
   "id": "37fa12a3",
   "metadata": {},
   "outputs": [
    {
     "data": {
      "text/plain": [
       "<AxesSubplot:xlabel='Course_Type', ylabel='count'>"
      ]
     },
     "execution_count": 8,
     "metadata": {},
     "output_type": "execute_result"
    },
    {
     "data": {
      "image/png": "[encoded data removed]",
      "text/plain": [
       "<Figure size 432x288 with 1 Axes>"
      ]
     },
     "metadata": {
      "needs_background": "light"
     },
     "output_type": "display_data"
    }
   ],
   "source": [
    "sns.countplot(x = 'Course_Type', data=train)"
   ]
  },
  {
   "cell_type": "markdown",
   "id": "b630fa94",
   "metadata": {},
   "source": [
    "* Our Hypothesis hold true here since Course are the most frequent in number."
   ]
  },
  {
   "cell_type": "markdown",
   "id": "7e7df2da",
   "metadata": {},
   "source": [
    "**Hypothesis 3: Short promotion will have higher frequency**"
   ]
  },
  {
   "cell_type": "code",
   "execution_count": 9,
   "id": "cdcb56d1",
   "metadata": {},
   "outputs": [
    {
     "data": {
      "text/plain": [
       "<AxesSubplot:xlabel='Short_Promotion', ylabel='count'>"
      ]
     },
     "execution_count": 9,
     "metadata": {},
     "output_type": "execute_result"
    },
    {
     "data": {
      "image/png": "[encoded data removed]",
      "text/plain": [
       "<Figure size 432x288 with 1 Axes>"
      ]
     },
     "metadata": {
      "needs_background": "light"
     },
     "output_type": "display_data"
    }
   ],
   "source": [
    "sns.countplot(x = 'Short_Promotion', data=train)"
   ]
  },
  {
   "cell_type": "markdown",
   "id": "10605c90",
   "metadata": {},
   "source": [
    "* So here our hypothesis doesn't hold true as we dont have short promotion frequency more than the not promoted one"
   ]
  },
  {
   "cell_type": "markdown",
   "id": "a938e5fe",
   "metadata": {},
   "source": [
    "**Hypothesis 4: Long promotion will have lower frequency**"
   ]
  },
  {
   "cell_type": "code",
   "execution_count": 10,
   "id": "7ccb6049",
   "metadata": {},
   "outputs": [
    {
     "data": {
      "text/plain": [
       "<AxesSubplot:xlabel='Long_Promotion', ylabel='count'>"
      ]
     },
     "execution_count": 10,
     "metadata": {},
     "output_type": "execute_result"
    },
    {
     "data": {
      "image/png": "[encoded data removed]",
      "text/plain": [
       "<Figure size 432x288 with 1 Axes>"
      ]
     },
     "metadata": {
      "needs_background": "light"
     },
     "output_type": "display_data"
    }
   ],
   "source": [
    "sns.countplot(x = 'Long_Promotion', data=train)"
   ]
  },
  {
   "cell_type": "markdown",
   "id": "c3ff3122",
   "metadata": {},
   "source": [
    "* Long promotion are more frequent as it must be running all the times excluding few of the times in a year"
   ]
  },
  {
   "cell_type": "markdown",
   "id": "67cc9380",
   "metadata": {},
   "source": [
    "**Hypothesis 5: Competition metric will have a skewed distribution**"
   ]
  },
  {
   "cell_type": "code",
   "execution_count": 11,
   "id": "334e8508",
   "metadata": {},
   "outputs": [
    {
     "data": {
      "text/plain": [
       "<AxesSubplot:xlabel='Competition_Metric', ylabel='Density'>"
      ]
     },
     "execution_count": 11,
     "metadata": {},
     "output_type": "execute_result"
    },
    {
     "data": {
      "image/png": "[encoded data removed]",
      "text/plain": [
       "<Figure size 432x288 with 1 Axes>"
      ]
     },
     "metadata": {
      "needs_background": "light"
     },
     "output_type": "display_data"
    }
   ],
   "source": [
    "sns.kdeplot(x= 'Competition_Metric', data = train, shade = True)"
   ]
  },
  {
   "cell_type": "code",
   "execution_count": 12,
   "id": "56ebc500",
   "metadata": {},
   "outputs": [
    {
     "data": {
      "text/plain": [
       "<AxesSubplot:xlabel='Competition_Metric', ylabel='Density'>"
      ]
     },
     "execution_count": 12,
     "metadata": {},
     "output_type": "execute_result"
    },
    {
     "data": {
      "image/png": "[encoded data removed]",
      "text/plain": [
       "<Figure size 432x288 with 1 Axes>"
      ]
     },
     "metadata": {
      "needs_background": "light"
     },
     "output_type": "display_data"
    }
   ],
   "source": [
    "sns.kdeplot(x= 'Competition_Metric', data = test, shade = True)"
   ]
  },
  {
   "cell_type": "markdown",
   "id": "4702d147",
   "metadata": {},
   "source": [
    "* As suspected competition metric is highly skewed towards right"
   ]
  },
  {
   "cell_type": "markdown",
   "id": "e673cfd0",
   "metadata": {},
   "source": [
    "#### Since the competiton metric is a skewed distribution, we can safely replace the missing values with median for the tests and train dataset"
   ]
  },
  {
   "cell_type": "code",
   "execution_count": 115,
   "id": "20b908d7",
   "metadata": {},
   "outputs": [],
   "source": [
    "train.fillna(train['Competition_Metric'].median(),inplace=True)\n",
    "test.fillna(train['Competition_Metric'].median(),inplace=True)"
   ]
  },
  {
   "cell_type": "markdown",
   "id": "1dada421",
   "metadata": {},
   "source": [
    "### Checking the distribution of target variable i.e. sales"
   ]
  },
  {
   "cell_type": "code",
   "execution_count": 14,
   "id": "6cf77c27",
   "metadata": {},
   "outputs": [
    {
     "data": {
      "text/plain": [
       "<AxesSubplot:xlabel='Sales', ylabel='Density'>"
      ]
     },
     "execution_count": 14,
     "metadata": {},
     "output_type": "execute_result"
    },
    {
     "data": {
      "image/png": "[encoded data removed]",
      "text/plain": [
       "<Figure size 432x288 with 1 Axes>"
      ]
     },
     "metadata": {
      "needs_background": "light"
     },
     "output_type": "display_data"
    }
   ],
   "source": [
    "sns.kdeplot(x= 'Sales', data = train, shade = True)"
   ]
  },
  {
   "cell_type": "markdown",
   "id": "3dab29b5",
   "metadata": {},
   "source": [
    "### Bivariate Analysis"
   ]
  },
  {
   "cell_type": "markdown",
   "id": "c5265e0d",
   "metadata": {},
   "source": [
    "**Hypothesis 1: Software marketing domain will have Higher sales**"
   ]
  },
  {
   "cell_type": "code",
   "execution_count": 15,
   "id": "b59da03b",
   "metadata": {},
   "outputs": [
    {
     "data": {
      "text/plain": [
       "(array([0, 1, 2, 3]),\n",
       " [Text(0, 0, 'Development'),\n",
       "  Text(1, 0, 'Software Marketing'),\n",
       "  Text(2, 0, 'Finance & Accounting'),\n",
       "  Text(3, 0, 'Business')])"
      ]
     },
     "execution_count": 15,
     "metadata": {},
     "output_type": "execute_result"
    },
    {
     "data": {
      "image/png": "[encoded data removed]",
      "text/plain": [
       "<Figure size 432x288 with 1 Axes>"
      ]
     },
     "metadata": {
      "needs_background": "light"
     },
     "output_type": "display_data"
    }
   ],
   "source": [
    "sns.barplot(y = 'Sales', x = 'Course_Domain', data=train)\n",
    "plt.xticks(rotation = 45)"
   ]
  },
  {
   "cell_type": "markdown",
   "id": "417647ef",
   "metadata": {},
   "source": [
    "* So the sales of Business domain courses are higher in number"
   ]
  },
  {
   "cell_type": "markdown",
   "id": "e7a65baf",
   "metadata": {},
   "source": [
    "**Hypothesis 2: Course in course type will have higher sales**"
   ]
  },
  {
   "cell_type": "code",
   "execution_count": 16,
   "id": "e39dda8c",
   "metadata": {},
   "outputs": [
    {
     "data": {
      "text/plain": [
       "<AxesSubplot:xlabel='Course_Type', ylabel='Sales'>"
      ]
     },
     "execution_count": 16,
     "metadata": {},
     "output_type": "execute_result"
    },
    {
     "data": {
      "image/png": "[encoded data removed]",
      "text/plain": [
       "<Figure size 432x288 with 1 Axes>"
      ]
     },
     "metadata": {
      "needs_background": "light"
     },
     "output_type": "display_data"
    }
   ],
   "source": [
    "sns.barplot(y = 'Sales', x = 'Course_Type', data=train)"
   ]
  },
  {
   "cell_type": "markdown",
   "id": "c9c21017",
   "metadata": {},
   "source": [
    "* So the degree courses has more sales than any other course type"
   ]
  },
  {
   "cell_type": "markdown",
   "id": "be6d4167",
   "metadata": {},
   "source": [
    "**Hypothesis 3: If the short promotion is on Sales will be higher**"
   ]
  },
  {
   "cell_type": "code",
   "execution_count": 17,
   "id": "358b3f46",
   "metadata": {},
   "outputs": [
    {
     "data": {
      "text/plain": [
       "<AxesSubplot:xlabel='Short_Promotion', ylabel='Sales'>"
      ]
     },
     "execution_count": 17,
     "metadata": {},
     "output_type": "execute_result"
    },
    {
     "data": {
      "image/png": "[encoded data removed]",
      "text/plain": [
       "<Figure size 432x288 with 1 Axes>"
      ]
     },
     "metadata": {
      "needs_background": "light"
     },
     "output_type": "display_data"
    }
   ],
   "source": [
    "sns.barplot(y = 'Sales', x = 'Short_Promotion', data=train)"
   ]
  },
  {
   "cell_type": "markdown",
   "id": "c4c06d62",
   "metadata": {},
   "source": [
    "* So our hypothesis hold true here is that while short term promotion sales are higher"
   ]
  },
  {
   "cell_type": "markdown",
   "id": "51f1d9b8",
   "metadata": {},
   "source": [
    "**Hypothesis 4: If the long promotion are on sales will be lower**"
   ]
  },
  {
   "cell_type": "code",
   "execution_count": 7,
   "id": "ea70b9cd",
   "metadata": {},
   "outputs": [
    {
     "data": {
      "text/plain": [
       "<AxesSubplot:xlabel='Long_Promotion', ylabel='Sales'>"
      ]
     },
     "execution_count": 7,
     "metadata": {},
     "output_type": "execute_result"
    },
    {
     "data": {
      "image/png": "[encoded data removed]",
      "text/plain": [
       "<Figure size 432x288 with 1 Axes>"
      ]
     },
     "metadata": {
      "needs_background": "light"
     },
     "output_type": "display_data"
    }
   ],
   "source": [
    "sns.barplot(y = 'Sales', x = 'Long_Promotion', data=train)"
   ]
  },
  {
   "cell_type": "markdown",
   "id": "3834e196",
   "metadata": {},
   "source": [
    "* So our hypothesis hold true here is that when long term promotions are in play, sales will be lower"
   ]
  },
  {
   "cell_type": "markdown",
   "id": "79b4c4dd",
   "metadata": {},
   "source": [
    "**Hypothesis 5: If public holiday is there then sales will be higher**"
   ]
  },
  {
   "cell_type": "code",
   "execution_count": 8,
   "id": "9a662feb",
   "metadata": {},
   "outputs": [
    {
     "data": {
      "text/plain": [
       "<AxesSubplot:xlabel='Public_Holiday', ylabel='Sales'>"
      ]
     },
     "execution_count": 8,
     "metadata": {},
     "output_type": "execute_result"
    },
    {
     "data": {
      "image/png": "[encoded data removed]",
      "text/plain": [
       "<Figure size 432x288 with 1 Axes>"
      ]
     },
     "metadata": {
      "needs_background": "light"
     },
     "output_type": "display_data"
    }
   ],
   "source": [
    "sns.barplot(y = 'Sales', x = 'Public_Holiday', data=train)"
   ]
  },
  {
   "cell_type": "markdown",
   "id": "06f903ba",
   "metadata": {},
   "source": [
    "* So Hypothesis doent hold true as ordinary days has more number of sales than holidays"
   ]
  },
  {
   "cell_type": "markdown",
   "id": "e1480613",
   "metadata": {},
   "source": [
    "**Hypothesis 6: If user traffic is more then sales will be higher**"
   ]
  },
  {
   "cell_type": "code",
   "execution_count": 19,
   "id": "a35dae69",
   "metadata": {},
   "outputs": [
    {
     "data": {
      "text/plain": [
       "count    512087.000000\n",
       "mean      15375.101198\n",
       "std        7727.231205\n",
       "min         168.000000\n",
       "25%       10584.000000\n",
       "50%       13776.000000\n",
       "75%       18123.000000\n",
       "max      100002.000000\n",
       "Name: User_Traffic, dtype: float64"
      ]
     },
     "execution_count": 19,
     "metadata": {},
     "output_type": "execute_result"
    }
   ],
   "source": [
    "train['User_Traffic'].describe()"
   ]
  },
  {
   "cell_type": "code",
   "execution_count": 20,
   "id": "40a41479",
   "metadata": {},
   "outputs": [
    {
     "name": "stdout",
     "output_type": "stream",
     "text": [
      "-724.5 29431.5\n"
     ]
    }
   ],
   "source": [
    "## Checking the number of outliers as 75th percentile value is much lesser than the max value\n",
    "q1, q3= np.percentile(train['User_Traffic'],[25,75])\n",
    "iqr = q3 - q1\n",
    "lower_bound = q1 -(1.5 * iqr) \n",
    "upper_bound = q3 +(1.5 * iqr)\n",
    "print(lower_bound, upper_bound)"
   ]
  },
  {
   "cell_type": "code",
   "execution_count": 21,
   "id": "3f3adc95",
   "metadata": {},
   "outputs": [
    {
     "data": {
      "text/plain": [
       "24614"
      ]
     },
     "execution_count": 21,
     "metadata": {},
     "output_type": "execute_result"
    }
   ],
   "source": [
    "(train['User_Traffic'].values > upper_bound).sum()"
   ]
  },
  {
   "cell_type": "markdown",
   "id": "ec2a1546",
   "metadata": {},
   "source": [
    "* So we also need to scale the user traffic values if required"
   ]
  },
  {
   "cell_type": "code",
   "execution_count": 22,
   "id": "8293fa54",
   "metadata": {},
   "outputs": [
    {
     "data": {
      "text/plain": [
       "<seaborn.axisgrid.FacetGrid at 0x21a113871c0>"
      ]
     },
     "execution_count": 22,
     "metadata": {},
     "output_type": "execute_result"
    },
    {
     "data": {
      "image/png": "[encoded data removed]",
      "text/plain": [
       "<Figure size 360x360 with 1 Axes>"
      ]
     },
     "metadata": {
      "needs_background": "light"
     },
     "output_type": "display_data"
    }
   ],
   "source": [
    "sns.relplot(x=\"User_Traffic\", y=\"Sales\", data=train)"
   ]
  },
  {
   "cell_type": "markdown",
   "id": "40374ec9",
   "metadata": {},
   "source": [
    "* So we see a Highly linear relationship for the User_traffic and Sales i.e. target variable"
   ]
  },
  {
   "cell_type": "markdown",
   "id": "0f881c17",
   "metadata": {},
   "source": [
    "**Hypothesis 7: If Competition is more then sales will be less**"
   ]
  },
  {
   "cell_type": "code",
   "execution_count": 23,
   "id": "4d99be18",
   "metadata": {},
   "outputs": [
    {
     "data": {
      "text/plain": [
       "count    512087.000000\n",
       "mean          0.073213\n",
       "std           0.099968\n",
       "min           0.000000\n",
       "25%           0.010000\n",
       "50%           0.035000\n",
       "75%           0.094000\n",
       "max           0.768000\n",
       "Name: Competition_Metric, dtype: float64"
      ]
     },
     "execution_count": 23,
     "metadata": {},
     "output_type": "execute_result"
    }
   ],
   "source": [
    "train['Competition_Metric'].describe()"
   ]
  },
  {
   "cell_type": "code",
   "execution_count": 24,
   "id": "37db6f74",
   "metadata": {},
   "outputs": [
    {
     "data": {
      "text/plain": [
       "<seaborn.axisgrid.FacetGrid at 0x21a7f6103a0>"
      ]
     },
     "execution_count": 24,
     "metadata": {},
     "output_type": "execute_result"
    },
    {
     "data": {
      "image/png": "[encoded data removed]",
      "text/plain": [
       "<Figure size 360x360 with 1 Axes>"
      ]
     },
     "metadata": {
      "needs_background": "light"
     },
     "output_type": "display_data"
    }
   ],
   "source": [
    "sns.relplot(x=\"Competition_Metric\", y=\"Sales\", data=train)"
   ]
  },
  {
   "cell_type": "markdown",
   "id": "a44c0047",
   "metadata": {},
   "source": [
    "* So we see a trend as competition metrics increases there is a decrease in sales trend"
   ]
  },
  {
   "cell_type": "markdown",
   "id": "58ceb901",
   "metadata": {},
   "source": [
    "### Feature Engineering"
   ]
  },
  {
   "cell_type": "code",
   "execution_count": 116,
   "id": "8d02e7ae",
   "metadata": {},
   "outputs": [],
   "source": [
    "## Dropping User_Traffic variable as we dont have that in test variable\n",
    "train.drop('User_Traffic', axis=1, inplace=True)"
   ]
  },
  {
   "cell_type": "code",
   "execution_count": 117,
   "id": "f9e79535",
   "metadata": {},
   "outputs": [],
   "source": [
    "# Creating week day variable from Day_no variabe\n",
    "\n",
    "train['Week_day']=train['Day_No'].apply(lambda x:x%7)\n",
    "test['Week_day']=test['Day_No'].apply(lambda x:x%7)"
   ]
  },
  {
   "cell_type": "code",
   "execution_count": 118,
   "id": "55a6e37a",
   "metadata": {},
   "outputs": [],
   "source": [
    "# Creating dummies for categorical variables\n",
    "\n",
    "train = pd.get_dummies(train,columns=['Course_Domain','Course_Type'], drop_first=True)\n",
    "test = pd.get_dummies(test,columns=['Course_Domain','Course_Type'], drop_first=True)"
   ]
  },
  {
   "cell_type": "code",
   "execution_count": 28,
   "id": "c360f659",
   "metadata": {},
   "outputs": [
    {
     "data": {
      "text/plain": [
       "<AxesSubplot:>"
      ]
     },
     "execution_count": 28,
     "metadata": {},
     "output_type": "execute_result"
    },
    {
     "data": {
      "image/png": "[encoded data removed]",
      "text/plain": [
       "<Figure size 432x288 with 2 Axes>"
      ]
     },
     "metadata": {
      "needs_background": "light"
     },
     "output_type": "display_data"
    }
   ],
   "source": [
    "corr = train.corr(method = 'pearson')\n",
    "sns.heatmap(corr, linewidths=1)"
   ]
  },
  {
   "cell_type": "markdown",
   "id": "3414a883",
   "metadata": {},
   "source": [
    "So we see quite a relationships."
   ]
  },
  {
   "cell_type": "code",
   "execution_count": 119,
   "id": "3b73f606",
   "metadata": {},
   "outputs": [],
   "source": [
    "# Dropping ID column \n",
    "train.drop('ID',axis=1,inplace=True)\n",
    "test.drop('ID',axis=1,inplace=True)"
   ]
  },
  {
   "cell_type": "code",
   "execution_count": 120,
   "id": "93eed267",
   "metadata": {},
   "outputs": [
    {
     "data": {
      "text/plain": [
       "((512087, 12), (512087,))"
      ]
     },
     "execution_count": 120,
     "metadata": {},
     "output_type": "execute_result"
    }
   ],
   "source": [
    "# Splitting train data for test and validations\n",
    "\n",
    "x = train.drop(['Sales'], axis=1)\n",
    "y = train['Sales']\n",
    "x.shape, y.shape"
   ]
  },
  {
   "cell_type": "code",
   "execution_count": 121,
   "id": "134d944f",
   "metadata": {},
   "outputs": [],
   "source": [
    "# importing the train test split function\n",
    "from sklearn.model_selection import train_test_split\n",
    "train_x, test_x, train_y, test_y = train_test_split(x, y, random_state = 95, test_size = 0.20)"
   ]
  },
  {
   "cell_type": "markdown",
   "id": "be3bbb69",
   "metadata": {},
   "source": [
    "### Doing power transformations for the variable with outliers"
   ]
  },
  {
   "cell_type": "code",
   "execution_count": 122,
   "id": "060f24dc",
   "metadata": {},
   "outputs": [
    {
     "data": {
      "text/plain": [
       "((102418, 12), (409669, 12), (36000, 12))"
      ]
     },
     "execution_count": 122,
     "metadata": {},
     "output_type": "execute_result"
    }
   ],
   "source": [
    "from sklearn.preprocessing import PowerTransformer, StandardScaler\n",
    "\n",
    "sc = StandardScaler()\n",
    "\n",
    "train_x = sc.fit_transform(train_x)\n",
    "test_x = sc.fit_transform(test_x)\n",
    "test = sc.fit_transform(test)\n",
    "\n",
    "\n",
    "test_x.shape, train_x.shape, test.shape"
   ]
  },
  {
   "cell_type": "code",
   "execution_count": 123,
   "id": "e7adb29c",
   "metadata": {},
   "outputs": [
    {
     "data": {
      "text/plain": [
       "(374.68698755095755, 817.5029224121353)"
      ]
     },
     "execution_count": 123,
     "metadata": {},
     "output_type": "execute_result"
    }
   ],
   "source": [
    "## Building model\n",
    "\n",
    "import xgboost as xgb\n",
    "from sklearn.metrics import r2_score, mean_squared_error \n",
    "\n",
    "model = xgb.XGBRegressor()\n",
    "\n",
    "model.fit(train_x, train_y)\n",
    "# make training prediction\n",
    "train_yhat = model.predict(train_x)\n",
    "r2_train_score = r2_score(train_y, train_yhat)\n",
    "mse_train_score = mean_squared_error(train_y, train_yhat)\n",
    "\n",
    "# make test prediction\n",
    "test_yhat = model.predict(test_x)\n",
    "r2_test_score =  r2_score(test_y, test_yhat)\n",
    "mse_test_score = mean_squared_error(test_y, test_yhat)\n",
    "\n",
    "mse_train_score, mse_test_score"
   ]
  },
  {
   "cell_type": "code",
   "execution_count": 48,
   "id": "fc696855",
   "metadata": {},
   "outputs": [
    {
     "name": "stdout",
     "output_type": "stream",
     "text": [
      "Fitting 3 folds for each of 30 candidates, totalling 90 fits\n"
     ]
    },
    {
     "name": "stderr",
     "output_type": "stream",
     "text": [
      "C:\\Anaconda\\lib\\site-packages\\joblib\\externals\\loky\\process_executor.py:688: UserWarning: A worker stopped while some jobs were given to the executor. This can be caused by a too short worker timeout or by a memory leak.\n",
      "  warnings.warn(\n"
     ]
    },
    {
     "data": {
      "text/plain": [
       "XGBRegressor(base_score=0.5, booster='gbtree', colsample_bylevel=1,\n",
       "             colsample_bynode=1, colsample_bytree=1, gamma=0, gpu_id=-1,\n",
       "             importance_type='gain', interaction_constraints='',\n",
       "             learning_rate=0.3, max_delta_step=0, max_depth=10,\n",
       "             min_child_weight=1, missing=nan, monotone_constraints='()',\n",
       "             n_estimators=300, n_jobs=8, num_parallel_tree=1, random_state=0,\n",
       "             reg_alpha=1, reg_lambda=10, scale_pos_weight=1, subsample=1,\n",
       "             tree_method='exact', validate_parameters=1, verbosity=None)"
      ]
     },
     "execution_count": 48,
     "metadata": {},
     "output_type": "execute_result"
    }
   ],
   "source": [
    "from sklearn.model_selection import GridSearchCV, RandomizedSearchCV\n",
    "\n",
    "param_dist = {\"max_depth\": [5, 10, 15],\n",
    "              \"n_estimators\": [100, 200, 300],\n",
    "              \"learning_rate\": [0.05, 0.1, 0.15, 0.2, 0.3],\n",
    "             \"reg_alpha\": [0, 0.01, 0.1, 1, 10],\n",
    "             \"reg_lambda\": [0, 0.01, 0.1, 1, 10]}\n",
    "\n",
    "grid_search = RandomizedSearchCV(model, param_dist, cv = 3, n_iter = 30,  \n",
    "                                   verbose=10, n_jobs=-1, scoring = \"neg_root_mean_squared_error\")\n",
    "\n",
    "grid_search.fit(train_x, train_y)\n",
    "\n",
    "grid_search.best_estimator_"
   ]
  },
  {
   "cell_type": "code",
   "execution_count": 35,
   "id": "7ecd2760",
   "metadata": {},
   "outputs": [
    {
     "data": {
      "text/plain": [
       "(99.2188877634266, 328.3225518890741)"
      ]
     },
     "execution_count": 35,
     "metadata": {},
     "output_type": "execute_result"
    }
   ],
   "source": [
    "model = xgb.XGBRegressor(base_score=0.5, booster='gbtree', colsample_bylevel=1,\n",
    "             colsample_bynode=1, colsample_bytree=1, gamma=0, gpu_id=-1,\n",
    "             importance_type='gain', interaction_constraints='',\n",
    "             learning_rate=0.3, max_delta_step=0, max_depth=10,\n",
    "             min_child_weight=1, monotone_constraints='()',\n",
    "             n_estimators=300, n_jobs=8, num_parallel_tree=1, random_state=0,\n",
    "             reg_alpha=1, reg_lambda=10, scale_pos_weight=1, subsample=1,\n",
    "             tree_method='exact', validate_parameters=1, verbosity=None)\n",
    "\n",
    "model.fit(train_x, train_y)\n",
    "# make training prediction\n",
    "train_yhat = model.predict(train_x)\n",
    "mse_train_score = mean_squared_error(train_y, train_yhat)\n",
    "\n",
    "# make test prediction\n",
    "test_yhat = model.predict(test_x)\n",
    "mse_test_score = mean_squared_error(test_y, test_yhat)\n",
    "\n",
    "mse_train_score, mse_test_score"
   ]
  },
  {
   "cell_type": "markdown",
   "id": "515b81e8",
   "metadata": {},
   "source": [
    "#### Now using train data to train model for predicting User traffic and predict for test data"
   ]
  },
  {
   "cell_type": "code",
   "execution_count": 42,
   "id": "8d45737c",
   "metadata": {},
   "outputs": [],
   "source": [
    "# Calling train and test data again\n",
    "\n",
    "train1 = pd.read_csv('train.csv')\n",
    "test1 = pd.read_csv('test.csv')\n",
    "\n",
    "train1.drop('Sales', axis=1, inplace=True)\n",
    "\n",
    "train1.fillna(train['Competition_Metric'].median(),inplace=True)\n",
    "test1.fillna(train['Competition_Metric'].median(),inplace=True)\n",
    "\n",
    "# Creating week day variable from Day_no variabe\n",
    "\n",
    "train1['Week_day']=train1['Day_No'].apply(lambda x:x%7)\n",
    "test1['Week_day']=test1['Day_No'].apply(lambda x:x%7)\n",
    "\n",
    "train1 = pd.get_dummies(train1,columns=['Course_Domain','Course_Type'], drop_first=True)\n",
    "test1 = pd.get_dummies(test1,columns=['Course_Domain','Course_Type'], drop_first=True)\n",
    "\n",
    "# Dropping ID column \n",
    "train1.drop('ID',axis=1,inplace=True)\n",
    "test1.drop('ID',axis=1,inplace=True)\n",
    "\n"
   ]
  },
  {
   "cell_type": "code",
   "execution_count": 43,
   "id": "ae576808",
   "metadata": {},
   "outputs": [
    {
     "data": {
      "text/plain": [
       "((512087, 12), (512087,))"
      ]
     },
     "execution_count": 43,
     "metadata": {},
     "output_type": "execute_result"
    }
   ],
   "source": [
    "# Splitting train and test data\n",
    "\n",
    "x = train1.drop(['User_Traffic'], axis=1)\n",
    "y = train1['User_Traffic']\n",
    "x.shape, y.shape"
   ]
  },
  {
   "cell_type": "code",
   "execution_count": 44,
   "id": "75d708ef",
   "metadata": {},
   "outputs": [],
   "source": [
    "from sklearn.model_selection import train_test_split\n",
    "train_x, test_x, train_y, test_y = train_test_split(x, y, random_state = 95, test_size = 0.20)"
   ]
  },
  {
   "cell_type": "code",
   "execution_count": 45,
   "id": "faec8179",
   "metadata": {},
   "outputs": [
    {
     "data": {
      "text/plain": [
       "((102418, 12), (409669, 12))"
      ]
     },
     "execution_count": 45,
     "metadata": {},
     "output_type": "execute_result"
    }
   ],
   "source": [
    "from sklearn.preprocessing import PowerTransformer\n",
    "\n",
    "pt = PowerTransformer()\n",
    "\n",
    "train_x = pt.fit_transform(train_x)\n",
    "test_x = pt.fit_transform(test_x)\n",
    "\n",
    "\n",
    "test_x.shape, train_x.shape"
   ]
  },
  {
   "cell_type": "code",
   "execution_count": 46,
   "id": "76318373",
   "metadata": {},
   "outputs": [
    {
     "data": {
      "text/plain": [
       "(40371769.51833785, 39968551.06797232)"
      ]
     },
     "execution_count": 46,
     "metadata": {},
     "output_type": "execute_result"
    }
   ],
   "source": [
    "from sklearn.linear_model import LinearRegression\n",
    "from sklearn.metrics import r2_score, mean_squared_error \n",
    "\n",
    "\n",
    "lr = LinearRegression()\n",
    "lr.fit(train_x, train_y)\n",
    "# make training prediction\n",
    "train_yhat = lr.predict(train_x)\n",
    "mse_train_score = mean_squared_error(train_y, train_yhat)\n",
    "\n",
    "# make test prediction\n",
    "test_yhat = lr.predict(test_x)\n",
    "mse_test_score = mean_squared_error(test_y, test_yhat)\n",
    "\n",
    "mse_train_score, mse_test_score"
   ]
  },
  {
   "cell_type": "code",
   "execution_count": 47,
   "id": "b8d40a8d",
   "metadata": {},
   "outputs": [
    {
     "data": {
      "text/plain": [
       "array([105354.7743993 , 105070.33228136, 104785.89016341, ...,\n",
       "       176287.07856708, 176002.63644914, 175718.1943312 ])"
      ]
     },
     "execution_count": 47,
     "metadata": {},
     "output_type": "execute_result"
    }
   ],
   "source": [
    "#Creating User traffic data\n",
    "\n",
    "test1_yhat = lr.predict(test1)\n",
    "test1_yhat"
   ]
  },
  {
   "cell_type": "code",
   "execution_count": 51,
   "id": "5aa5efd4",
   "metadata": {},
   "outputs": [],
   "source": [
    "result = pd.DataFrame({'User_Traffic': test1_yhat})"
   ]
  },
  {
   "cell_type": "code",
   "execution_count": 53,
   "id": "18bfae33",
   "metadata": {},
   "outputs": [],
   "source": [
    "test_final = pd.concat([test1,result], axis=1)"
   ]
  },
  {
   "cell_type": "code",
   "execution_count": 54,
   "id": "bce42b4a",
   "metadata": {},
   "outputs": [
    {
     "data": {
      "text/html": [
       "<div>\n",
       "<style scoped>\n",
       "    .dataframe tbody tr th:only-of-type {\n",
       "        vertical-align: middle;\n",
       "    }\n",
       "\n",
       "    .dataframe tbody tr th {\n",
       "        vertical-align: top;\n",
       "    }\n",
       "\n",
       "    .dataframe thead th {\n",
       "        text-align: right;\n",
       "    }\n",
       "</style>\n",
       "<table border=\"1\" class=\"dataframe\">\n",
       "  <thead>\n",
       "    <tr style=\"text-align: right;\">\n",
       "      <th></th>\n",
       "      <th>Day_No</th>\n",
       "      <th>Course_ID</th>\n",
       "      <th>Short_Promotion</th>\n",
       "      <th>Public_Holiday</th>\n",
       "      <th>Long_Promotion</th>\n",
       "      <th>Competition_Metric</th>\n",
       "      <th>Week_day</th>\n",
       "      <th>Course_Domain_Development</th>\n",
       "      <th>Course_Domain_Finance &amp; Accounting</th>\n",
       "      <th>Course_Domain_Software Marketing</th>\n",
       "      <th>Course_Type_Degree</th>\n",
       "      <th>Course_Type_Program</th>\n",
       "      <th>User_Traffic</th>\n",
       "    </tr>\n",
       "  </thead>\n",
       "  <tbody>\n",
       "    <tr>\n",
       "      <th>0</th>\n",
       "      <td>883</td>\n",
       "      <td>1</td>\n",
       "      <td>1</td>\n",
       "      <td>0</td>\n",
       "      <td>1</td>\n",
       "      <td>0.007</td>\n",
       "      <td>1</td>\n",
       "      <td>1</td>\n",
       "      <td>0</td>\n",
       "      <td>0</td>\n",
       "      <td>0</td>\n",
       "      <td>0</td>\n",
       "      <td>105354.774399</td>\n",
       "    </tr>\n",
       "    <tr>\n",
       "      <th>1</th>\n",
       "      <td>884</td>\n",
       "      <td>1</td>\n",
       "      <td>1</td>\n",
       "      <td>0</td>\n",
       "      <td>1</td>\n",
       "      <td>0.007</td>\n",
       "      <td>2</td>\n",
       "      <td>1</td>\n",
       "      <td>0</td>\n",
       "      <td>0</td>\n",
       "      <td>0</td>\n",
       "      <td>0</td>\n",
       "      <td>105070.332281</td>\n",
       "    </tr>\n",
       "    <tr>\n",
       "      <th>2</th>\n",
       "      <td>885</td>\n",
       "      <td>1</td>\n",
       "      <td>1</td>\n",
       "      <td>0</td>\n",
       "      <td>1</td>\n",
       "      <td>0.007</td>\n",
       "      <td>3</td>\n",
       "      <td>1</td>\n",
       "      <td>0</td>\n",
       "      <td>0</td>\n",
       "      <td>0</td>\n",
       "      <td>0</td>\n",
       "      <td>104785.890163</td>\n",
       "    </tr>\n",
       "    <tr>\n",
       "      <th>3</th>\n",
       "      <td>886</td>\n",
       "      <td>1</td>\n",
       "      <td>1</td>\n",
       "      <td>0</td>\n",
       "      <td>1</td>\n",
       "      <td>0.007</td>\n",
       "      <td>4</td>\n",
       "      <td>1</td>\n",
       "      <td>0</td>\n",
       "      <td>0</td>\n",
       "      <td>0</td>\n",
       "      <td>0</td>\n",
       "      <td>104501.448045</td>\n",
       "    </tr>\n",
       "    <tr>\n",
       "      <th>4</th>\n",
       "      <td>887</td>\n",
       "      <td>1</td>\n",
       "      <td>0</td>\n",
       "      <td>0</td>\n",
       "      <td>1</td>\n",
       "      <td>0.007</td>\n",
       "      <td>5</td>\n",
       "      <td>1</td>\n",
       "      <td>0</td>\n",
       "      <td>0</td>\n",
       "      <td>0</td>\n",
       "      <td>0</td>\n",
       "      <td>102850.010708</td>\n",
       "    </tr>\n",
       "    <tr>\n",
       "      <th>...</th>\n",
       "      <td>...</td>\n",
       "      <td>...</td>\n",
       "      <td>...</td>\n",
       "      <td>...</td>\n",
       "      <td>...</td>\n",
       "      <td>...</td>\n",
       "      <td>...</td>\n",
       "      <td>...</td>\n",
       "      <td>...</td>\n",
       "      <td>...</td>\n",
       "      <td>...</td>\n",
       "      <td>...</td>\n",
       "      <td>...</td>\n",
       "    </tr>\n",
       "    <tr>\n",
       "      <th>35995</th>\n",
       "      <td>938</td>\n",
       "      <td>600</td>\n",
       "      <td>1</td>\n",
       "      <td>0</td>\n",
       "      <td>1</td>\n",
       "      <td>0.070</td>\n",
       "      <td>0</td>\n",
       "      <td>0</td>\n",
       "      <td>0</td>\n",
       "      <td>1</td>\n",
       "      <td>0</td>\n",
       "      <td>1</td>\n",
       "      <td>176855.962803</td>\n",
       "    </tr>\n",
       "    <tr>\n",
       "      <th>35996</th>\n",
       "      <td>939</td>\n",
       "      <td>600</td>\n",
       "      <td>1</td>\n",
       "      <td>0</td>\n",
       "      <td>1</td>\n",
       "      <td>0.070</td>\n",
       "      <td>1</td>\n",
       "      <td>0</td>\n",
       "      <td>0</td>\n",
       "      <td>1</td>\n",
       "      <td>0</td>\n",
       "      <td>1</td>\n",
       "      <td>176571.520685</td>\n",
       "    </tr>\n",
       "    <tr>\n",
       "      <th>35997</th>\n",
       "      <td>940</td>\n",
       "      <td>600</td>\n",
       "      <td>1</td>\n",
       "      <td>0</td>\n",
       "      <td>1</td>\n",
       "      <td>0.070</td>\n",
       "      <td>2</td>\n",
       "      <td>0</td>\n",
       "      <td>0</td>\n",
       "      <td>1</td>\n",
       "      <td>0</td>\n",
       "      <td>1</td>\n",
       "      <td>176287.078567</td>\n",
       "    </tr>\n",
       "    <tr>\n",
       "      <th>35998</th>\n",
       "      <td>941</td>\n",
       "      <td>600</td>\n",
       "      <td>1</td>\n",
       "      <td>0</td>\n",
       "      <td>1</td>\n",
       "      <td>0.070</td>\n",
       "      <td>3</td>\n",
       "      <td>0</td>\n",
       "      <td>0</td>\n",
       "      <td>1</td>\n",
       "      <td>0</td>\n",
       "      <td>1</td>\n",
       "      <td>176002.636449</td>\n",
       "    </tr>\n",
       "    <tr>\n",
       "      <th>35999</th>\n",
       "      <td>942</td>\n",
       "      <td>600</td>\n",
       "      <td>1</td>\n",
       "      <td>0</td>\n",
       "      <td>1</td>\n",
       "      <td>0.070</td>\n",
       "      <td>4</td>\n",
       "      <td>0</td>\n",
       "      <td>0</td>\n",
       "      <td>1</td>\n",
       "      <td>0</td>\n",
       "      <td>1</td>\n",
       "      <td>175718.194331</td>\n",
       "    </tr>\n",
       "  </tbody>\n",
       "</table>\n",
       "<p>36000 rows × 13 columns</p>\n",
       "</div>"
      ],
      "text/plain": [
       "       Day_No  Course_ID  Short_Promotion  Public_Holiday  Long_Promotion  \\\n",
       "0         883          1                1               0               1   \n",
       "1         884          1                1               0               1   \n",
       "2         885          1                1               0               1   \n",
       "3         886          1                1               0               1   \n",
       "4         887          1                0               0               1   \n",
       "...       ...        ...              ...             ...             ...   \n",
       "35995     938        600                1               0               1   \n",
       "35996     939        600                1               0               1   \n",
       "35997     940        600                1               0               1   \n",
       "35998     941        600                1               0               1   \n",
       "35999     942        600                1               0               1   \n",
       "\n",
       "       Competition_Metric  Week_day  Course_Domain_Development  \\\n",
       "0                   0.007         1                          1   \n",
       "1                   0.007         2                          1   \n",
       "2                   0.007         3                          1   \n",
       "3                   0.007         4                          1   \n",
       "4                   0.007         5                          1   \n",
       "...                   ...       ...                        ...   \n",
       "35995               0.070         0                          0   \n",
       "35996               0.070         1                          0   \n",
       "35997               0.070         2                          0   \n",
       "35998               0.070         3                          0   \n",
       "35999               0.070         4                          0   \n",
       "\n",
       "       Course_Domain_Finance & Accounting  Course_Domain_Software Marketing  \\\n",
       "0                                       0                                 0   \n",
       "1                                       0                                 0   \n",
       "2                                       0                                 0   \n",
       "3                                       0                                 0   \n",
       "4                                       0                                 0   \n",
       "...                                   ...                               ...   \n",
       "35995                                   0                                 1   \n",
       "35996                                   0                                 1   \n",
       "35997                                   0                                 1   \n",
       "35998                                   0                                 1   \n",
       "35999                                   0                                 1   \n",
       "\n",
       "       Course_Type_Degree  Course_Type_Program   User_Traffic  \n",
       "0                       0                    0  105354.774399  \n",
       "1                       0                    0  105070.332281  \n",
       "2                       0                    0  104785.890163  \n",
       "3                       0                    0  104501.448045  \n",
       "4                       0                    0  102850.010708  \n",
       "...                   ...                  ...            ...  \n",
       "35995                   0                    1  176855.962803  \n",
       "35996                   0                    1  176571.520685  \n",
       "35997                   0                    1  176287.078567  \n",
       "35998                   0                    1  176002.636449  \n",
       "35999                   0                    1  175718.194331  \n",
       "\n",
       "[36000 rows x 13 columns]"
      ]
     },
     "execution_count": 54,
     "metadata": {},
     "output_type": "execute_result"
    }
   ],
   "source": [
    "test_final"
   ]
  },
  {
   "cell_type": "code",
   "execution_count": 56,
   "id": "a970cfaf",
   "metadata": {},
   "outputs": [
    {
     "data": {
      "text/plain": [
       "((512087, 13), (512087,))"
      ]
     },
     "execution_count": 56,
     "metadata": {},
     "output_type": "execute_result"
    }
   ],
   "source": [
    "train = pd.read_csv('train.csv')\n",
    "train.fillna(train['Competition_Metric'].median(),inplace=True)\n",
    "\n",
    "train['Week_day']=train['Day_No'].apply(lambda x:x%7)\n",
    "\n",
    "train = pd.get_dummies(train,columns=['Course_Domain','Course_Type'], drop_first=True)\n",
    "\n",
    "train.drop('ID',axis=1,inplace=True)\n",
    "\n",
    "X = train.drop(['Sales'], axis=1)\n",
    "Y = train['Sales']\n",
    "X.shape, Y.shape"
   ]
  },
  {
   "cell_type": "code",
   "execution_count": 57,
   "id": "9502cf24",
   "metadata": {},
   "outputs": [],
   "source": [
    "from sklearn.model_selection import train_test_split\n",
    "train_x, test_x, train_y, test_y = train_test_split(X, Y, random_state = 45, test_size = 0.30)"
   ]
  },
  {
   "cell_type": "code",
   "execution_count": 58,
   "id": "178345a3",
   "metadata": {},
   "outputs": [
    {
     "data": {
      "text/plain": [
       "((153627, 13), (358460, 13), (36000, 13))"
      ]
     },
     "execution_count": 58,
     "metadata": {},
     "output_type": "execute_result"
    }
   ],
   "source": [
    "from sklearn.preprocessing import PowerTransformer\n",
    "\n",
    "pt = PowerTransformer()\n",
    "\n",
    "test_final = pt.fit_transform(test_final)\n",
    "train_x = pt.fit_transform(train_x)\n",
    "test_x = pt.fit_transform(test_x)\n",
    "\n",
    "\n",
    "test_x.shape, train_x.shape, test_final.shape\n"
   ]
  },
  {
   "cell_type": "code",
   "execution_count": 67,
   "id": "d5b1a722",
   "metadata": {},
   "outputs": [
    {
     "data": {
      "text/plain": [
       "(74.26604442604467, 109.35217986849197)"
      ]
     },
     "execution_count": 67,
     "metadata": {},
     "output_type": "execute_result"
    }
   ],
   "source": [
    "## Building model\n",
    "\n",
    "import xgboost as xgb\n",
    "from sklearn.metrics import r2_score, mean_squared_error \n",
    "\n",
    "model = xgb.XGBRegressor()\n",
    "\n",
    "model.fit(train_x, train_y)\n",
    "# make training prediction\n",
    "train_yhat = model.predict(train_x)\n",
    "r2_train_score = r2_score(train_y, train_yhat)\n",
    "mse_train_score = mean_squared_error(train_y, train_yhat)\n",
    "\n",
    "# make test prediction\n",
    "test_yhat = model.predict(test_x)\n",
    "r2_test_score =  r2_score(test_y, test_yhat)\n",
    "mse_test_score = mean_squared_error(test_y, test_yhat)\n",
    "\n",
    "mse_train_score, mse_test_score"
   ]
  },
  {
   "cell_type": "code",
   "execution_count": 68,
   "id": "30672f71",
   "metadata": {},
   "outputs": [
    {
     "name": "stdout",
     "output_type": "stream",
     "text": [
      "Fitting 3 folds for each of 30 candidates, totalling 90 fits\n"
     ]
    },
    {
     "name": "stderr",
     "output_type": "stream",
     "text": [
      "C:\\Anaconda\\lib\\site-packages\\joblib\\externals\\loky\\process_executor.py:688: UserWarning: A worker stopped while some jobs were given to the executor. This can be caused by a too short worker timeout or by a memory leak.\n",
      "  warnings.warn(\n"
     ]
    },
    {
     "data": {
      "text/plain": [
       "XGBRegressor(base_score=0.5, booster='gbtree', colsample_bylevel=1,\n",
       "             colsample_bynode=1, colsample_bytree=1, gamma=0, gpu_id=-1,\n",
       "             importance_type='gain', interaction_constraints='',\n",
       "             learning_rate=0.15, max_delta_step=0, max_depth=15,\n",
       "             min_child_weight=1, missing=nan, monotone_constraints='()',\n",
       "             n_estimators=200, n_jobs=8, num_parallel_tree=1, random_state=0,\n",
       "             reg_alpha=1, reg_lambda=10, scale_pos_weight=1, subsample=1,\n",
       "             tree_method='exact', validate_parameters=1, verbosity=None)"
      ]
     },
     "execution_count": 68,
     "metadata": {},
     "output_type": "execute_result"
    }
   ],
   "source": [
    "from sklearn.model_selection import GridSearchCV, RandomizedSearchCV\n",
    "\n",
    "param_dist = {\"max_depth\": [5, 10, 15],\n",
    "              \"n_estimators\": [100, 200, 300],\n",
    "              \"learning_rate\": [0.05, 0.1, 0.15, 0.2, 0.3],\n",
    "             \"reg_alpha\": [0, 0.01, 0.1, 1, 10],\n",
    "             \"reg_lambda\": [0, 0.01, 0.1, 1, 10]}\n",
    "\n",
    "grid_search = RandomizedSearchCV(model, param_dist, cv = 3, n_iter = 30,  \n",
    "                                   verbose=10, n_jobs=-1, scoring = \"neg_root_mean_squared_error\")\n",
    "\n",
    "grid_search.fit(train_x, train_y)\n",
    "\n",
    "grid_search.best_estimator_"
   ]
  },
  {
   "cell_type": "code",
   "execution_count": 130,
   "id": "ef102fa4",
   "metadata": {},
   "outputs": [
    {
     "data": {
      "text/plain": [
       "(81.07678666865495, 347.7994395533459)"
      ]
     },
     "execution_count": 130,
     "metadata": {},
     "output_type": "execute_result"
    }
   ],
   "source": [
    "model = xgb.XGBRegressor(base_score=0.5, booster='gbtree', colsample_bylevel=1,\n",
    "             colsample_bynode=1, colsample_bytree=1, gamma=0, gpu_id=-1,\n",
    "             importance_type='gain', interaction_constraints='',\n",
    "             learning_rate=0.15, max_delta_step=0, max_depth=15,\n",
    "             min_child_weight=1, monotone_constraints='()',\n",
    "             n_estimators=200, n_jobs=8, num_parallel_tree=1, random_state=0,\n",
    "             reg_alpha=1, reg_lambda=10, scale_pos_weight=1, subsample=1,\n",
    "             tree_method='exact', validate_parameters=1, verbosity=None)\n",
    "\n",
    "model.fit(train_x, train_y)\n",
    "# make training prediction\n",
    "train_yhat = model.predict(train_x)\n",
    "mse_train_score = mean_squared_error(train_y, train_yhat)\n",
    "\n",
    "# make test prediction\n",
    "test_yhat = model.predict(test_x)\n",
    "mse_test_score = mean_squared_error(test_y, test_yhat)\n",
    "\n",
    "mse_train_score, mse_test_score"
   ]
  },
  {
   "cell_type": "markdown",
   "id": "46a8812a",
   "metadata": {},
   "source": [
    "**-> Seems model is kind of overfitting**"
   ]
  },
  {
   "cell_type": "markdown",
   "id": "4fdfbbf6",
   "metadata": {},
   "source": [
    "### So using the original model without user traffic to predict sales"
   ]
  },
  {
   "cell_type": "code",
   "execution_count": 124,
   "id": "6260b1ec",
   "metadata": {},
   "outputs": [
    {
     "data": {
      "text/plain": [
       "array([127.87746 , 118.82756 ,  97.1579  , ..., 121.533646, 128.7199  ,\n",
       "       132.79489 ], dtype=float32)"
      ]
     },
     "execution_count": 124,
     "metadata": {},
     "output_type": "execute_result"
    }
   ],
   "source": [
    "# make test prediction\n",
    "test_yhat_final = model.predict(test)\n",
    "test_yhat_final"
   ]
  },
  {
   "cell_type": "code",
   "execution_count": 125,
   "id": "e13a88ef",
   "metadata": {},
   "outputs": [],
   "source": [
    "df1 = pd.read_csv('test.csv')"
   ]
  },
  {
   "cell_type": "code",
   "execution_count": 126,
   "id": "70baf3bd",
   "metadata": {},
   "outputs": [],
   "source": [
    "result = pd.DataFrame({\"ID\": df1['ID'], 'Sales': test_yhat_final})"
   ]
  },
  {
   "cell_type": "code",
   "execution_count": 127,
   "id": "f0913b29",
   "metadata": {},
   "outputs": [
    {
     "data": {
      "text/html": [
       "<div>\n",
       "<style scoped>\n",
       "    .dataframe tbody tr th:only-of-type {\n",
       "        vertical-align: middle;\n",
       "    }\n",
       "\n",
       "    .dataframe tbody tr th {\n",
       "        vertical-align: top;\n",
       "    }\n",
       "\n",
       "    .dataframe thead th {\n",
       "        text-align: right;\n",
       "    }\n",
       "</style>\n",
       "<table border=\"1\" class=\"dataframe\">\n",
       "  <thead>\n",
       "    <tr style=\"text-align: right;\">\n",
       "      <th></th>\n",
       "      <th>ID</th>\n",
       "      <th>Sales</th>\n",
       "    </tr>\n",
       "  </thead>\n",
       "  <tbody>\n",
       "    <tr>\n",
       "      <th>0</th>\n",
       "      <td>883</td>\n",
       "      <td>127.877457</td>\n",
       "    </tr>\n",
       "    <tr>\n",
       "      <th>1</th>\n",
       "      <td>884</td>\n",
       "      <td>118.827560</td>\n",
       "    </tr>\n",
       "    <tr>\n",
       "      <th>2</th>\n",
       "      <td>885</td>\n",
       "      <td>97.157898</td>\n",
       "    </tr>\n",
       "    <tr>\n",
       "      <th>3</th>\n",
       "      <td>886</td>\n",
       "      <td>94.973267</td>\n",
       "    </tr>\n",
       "    <tr>\n",
       "      <th>4</th>\n",
       "      <td>887</td>\n",
       "      <td>53.379284</td>\n",
       "    </tr>\n",
       "    <tr>\n",
       "      <th>...</th>\n",
       "      <td>...</td>\n",
       "      <td>...</td>\n",
       "    </tr>\n",
       "    <tr>\n",
       "      <th>35995</th>\n",
       "      <td>548083</td>\n",
       "      <td>164.797989</td>\n",
       "    </tr>\n",
       "    <tr>\n",
       "      <th>35996</th>\n",
       "      <td>548084</td>\n",
       "      <td>148.011444</td>\n",
       "    </tr>\n",
       "    <tr>\n",
       "      <th>35997</th>\n",
       "      <td>548085</td>\n",
       "      <td>121.533646</td>\n",
       "    </tr>\n",
       "    <tr>\n",
       "      <th>35998</th>\n",
       "      <td>548086</td>\n",
       "      <td>128.719894</td>\n",
       "    </tr>\n",
       "    <tr>\n",
       "      <th>35999</th>\n",
       "      <td>548087</td>\n",
       "      <td>132.794891</td>\n",
       "    </tr>\n",
       "  </tbody>\n",
       "</table>\n",
       "<p>36000 rows × 2 columns</p>\n",
       "</div>"
      ],
      "text/plain": [
       "           ID       Sales\n",
       "0         883  127.877457\n",
       "1         884  118.827560\n",
       "2         885   97.157898\n",
       "3         886   94.973267\n",
       "4         887   53.379284\n",
       "...       ...         ...\n",
       "35995  548083  164.797989\n",
       "35996  548084  148.011444\n",
       "35997  548085  121.533646\n",
       "35998  548086  128.719894\n",
       "35999  548087  132.794891\n",
       "\n",
       "[36000 rows x 2 columns]"
      ]
     },
     "execution_count": 127,
     "metadata": {},
     "output_type": "execute_result"
    }
   ],
   "source": [
    "result"
   ]
  },
  {
   "cell_type": "code",
   "execution_count": 128,
   "id": "37cfe59b",
   "metadata": {},
   "outputs": [],
   "source": [
    "result.to_csv('sub11.csv',index=False) "
   ]
  },
  {
   "cell_type": "code",
   "execution_count": null,
   "id": "a459f9c9",
   "metadata": {},
   "outputs": [],
   "source": []
  }
 ],
 "metadata": {
  "kernelspec": {
   "display_name": "Python 3",
   "language": "python",
   "name": "python3"
  },
  "language_info": {
   "codemirror_mode": {
    "name": "ipython",
    "version": 3
   },
   "file_extension": ".py",
   "mimetype": "text/x-python",
   "name": "python",
   "nbconvert_exporter": "python",
   "pygments_lexer": "ipython3",
   "version": "3.8.8"
  }
 },
 "nbformat": 4,
 "nbformat_minor": 5
}
